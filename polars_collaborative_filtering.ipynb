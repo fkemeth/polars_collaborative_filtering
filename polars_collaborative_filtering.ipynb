{
 "cells": [
  {
   "cell_type": "code",
   "execution_count": 2,
   "metadata": {},
   "outputs": [],
   "source": [
    "import polars as pl\n",
    "\n",
    "books = pl.scan_csv(\"books.csv\").select(\"book_id\", \"title\", \"authors\")\n",
    "ratings = pl.scan_csv(\"ratings.csv\").select(\"user_id\", \"book_id\", \"rating\")"
   ]
  },
  {
   "cell_type": "code",
   "execution_count": 3,
   "metadata": {},
   "outputs": [
    {
     "data": {
      "text/html": [
       "<div><style>\n",
       ".dataframe > thead > tr,\n",
       ".dataframe > tbody > tr {\n",
       "  text-align: right;\n",
       "  white-space: pre-wrap;\n",
       "}\n",
       "</style>\n",
       "<small>shape: (5, 3)</small><table border=\"1\" class=\"dataframe\"><thead><tr><th>user_id</th><th>book_id</th><th>rating</th></tr><tr><td>i64</td><td>i64</td><td>i64</td></tr></thead><tbody><tr><td>1</td><td>258</td><td>5</td></tr><tr><td>2</td><td>4081</td><td>4</td></tr><tr><td>2</td><td>260</td><td>5</td></tr><tr><td>2</td><td>9296</td><td>5</td></tr><tr><td>2</td><td>2318</td><td>3</td></tr></tbody></table></div>"
      ],
      "text/plain": [
       "shape: (5, 3)\n",
       "┌─────────┬─────────┬────────┐\n",
       "│ user_id ┆ book_id ┆ rating │\n",
       "│ ---     ┆ ---     ┆ ---    │\n",
       "│ i64     ┆ i64     ┆ i64    │\n",
       "╞═════════╪═════════╪════════╡\n",
       "│ 1       ┆ 258     ┆ 5      │\n",
       "│ 2       ┆ 4081    ┆ 4      │\n",
       "│ 2       ┆ 260     ┆ 5      │\n",
       "│ 2       ┆ 9296    ┆ 5      │\n",
       "│ 2       ┆ 2318    ┆ 3      │\n",
       "└─────────┴─────────┴────────┘"
      ]
     },
     "execution_count": 3,
     "metadata": {},
     "output_type": "execute_result"
    }
   ],
   "source": [
    "ratings.limit().collect()"
   ]
  },
  {
   "cell_type": "code",
   "execution_count": 4,
   "metadata": {},
   "outputs": [],
   "source": [
    "# Create dataframe with my ratings and a custom user id\n",
    "my_user_id = 0\n",
    "my_ratings = [\n",
    "    [\"The Hitchhiker's Guide to the Galaxy (Hitchhiker's Guide to the Galaxy, #1)\", 5],\n",
    "    [\"The Martian\", 5],\n",
    "    [\"Surely You're Joking, Mr. Feynman!: Adventures of a Curious Character\", 5],\n",
    "    ['Going Solo', 5],\n",
    "    [\"Flatland: A Romance of Many Dimensions\", 5],\n",
    "    [\"Gödel, Escher, Bach: An Eternal Golden Braid\", 5],\n",
    "    [\"The Hundred-Year-Old Man Who Climbed Out of the Window and Disappeared\", 5],\n",
    "    [\"Gut: The Inside Story of Our Body's Most Underrated Organ\", 5],\n",
    "    [\"Brave New World\", 4],\n",
    "    [\"The Three-Body Problem (Remembrance of Earth's Past, #1)\", 2],\n",
    "    [\"The Dark Forest (Remembrance of Earth's Past, #2)\", 2],\n",
    "    [\"The Remains of the Day\", 5],\n",
    "    [\"The Pursuit of Happyness\", 5],\n",
    "    [\"Animal Farm\", 5],\n",
    "    [\"1984\", 5],\n",
    "    [\"Norwegian Wood\", 5],\n",
    "    [\"Three Men in a Boat (Three Men, #1)\", 5],\n",
    "    [\"Lord of the Flies\", 3],\n",
    "    [\"Buddenbrooks: The Decline of a Family\", 1],\n",
    "    [\"To Kill a Mockingbird\", 5],\n",
    "    [\"Harry Potter and the Sorcerer's Stone (Harry Potter, #1)\", 3],\n",
    "    [\"Harry Potter and the Chamber of Secrets (Harry Potter, #2)\", 3],\n",
    "    [\"Harry Potter and the Prisoner of Azkaban (Harry Potter, #3)\", 3],\n",
    "    [\"Harry Potter and the Goblet of Fire (Harry Potter, #4)\", 3],\n",
    "    [\"Harry Potter and the Order of the Phoenix (Harry Potter, #5)\", 3],\n",
    "    [\"Harry Potter and the Half-Blood Prince (Harry Potter, #6)\", 3],\n",
    "    [\"Harry Potter and the Deathly Hallows (Harry Potter, #7)\", 3],\n",
    "    [\"Perfume: The Story of a Murderer\", 1],\n",
    "    [\"Sapiens: A Brief History of Humankind\", 5],\n",
    "    [\"The Circle\", 1],\n",
    "    [\"The Reader\", 2],\n",
    "    [\"Cloud Atlas\", 5],\n",
    "    [\"A Briefer History of Time\", 5],\n",
    "    [\"The Grand Design\", 4],\n",
    "    [\"The Universe in a Nutshell\", 4],\n",
    "    [\"All Quiet on the Western Front\", 5],\n",
    "    [\"Inferno (Robert Langdon, #4)\", 3],\n",
    "    [\"The Da Vinci Code (Robert Langdon, #2)\", 4],\n",
    "    [\"I Am Legend\", 5],\n",
    "    [\"Catch Me If You Can: The True Story of a Real Fake\", 4],\n",
    "    [\"Memoirs of a Geisha\", 5],\n",
    "    [\"A Fine Balance\", 5],\n",
    "    [\"Man's Search for Meaning\", 5],\n",
    "    [\"Dune (Dune Chronicles #1)\", 4],\n",
    "    [\"The Kite Runner\", 5],\n",
    "    [\"Kon-Tiki: Across The Pacific In A Raft\", 5],\n",
    "    [\"Seven Years in Tibet\", 5],\n",
    "    [\"The Diary of a Young Girl\", 5],\n",
    "    [\"The Alchemist\", 5],\n",
    "    [\"Siddhartha\", 5],\n",
    "    [\"The Glass Bead Game\", 4],\n",
    "    [\"Demian. Die Geschichte von Emil Sinclairs Jugend\", 5],\n",
    "    [\"Steppenwolf\", 4],\n",
    "    [\"Quo Vadis\", 5],\n",
    "    [\"P.S. I Love You\", 4],\n",
    "    [\"The Pillars of the Earth (The Kingsbridge Series, #1)\", 4],\n",
    "    [\"Eye of the Needle\", 4],\n",
    "    [\"Eragon (The Inheritance Cycle, #1)\", 4],\n",
    "    [\"Wild Swans: Three Daughters of China\", 5],\n",
    "    [\"I Am Malala: The Story of the Girl Who Stood Up for Education and Was Shot by the Taliban\", 5]\n",
    "] \n",
    "my_ratings = pl.LazyFrame(my_ratings, schema=[('title', pl.String), ('my_rating', pl.Int64)])\n",
    "my_ratings = my_ratings.join(books.select(\"book_id\", \"title\"), on='title', how='left')"
   ]
  },
  {
   "cell_type": "code",
   "execution_count": 5,
   "metadata": {},
   "outputs": [
    {
     "data": {
      "text/html": [
       "<div><style>\n",
       ".dataframe > thead > tr,\n",
       ".dataframe > tbody > tr {\n",
       "  text-align: right;\n",
       "  white-space: pre-wrap;\n",
       "}\n",
       "</style>\n",
       "<small>shape: (5, 4)</small><table border=\"1\" class=\"dataframe\"><thead><tr><th>user_id</th><th>book_id</th><th>rating</th><th>my_rating</th></tr><tr><td>i64</td><td>i64</td><td>i64</td><td>i64</td></tr></thead><tbody><tr><td>1</td><td>258</td><td>5</td><td>null</td></tr><tr><td>2</td><td>4081</td><td>4</td><td>null</td></tr><tr><td>2</td><td>260</td><td>5</td><td>null</td></tr><tr><td>2</td><td>9296</td><td>5</td><td>null</td></tr><tr><td>2</td><td>2318</td><td>3</td><td>null</td></tr></tbody></table></div>"
      ],
      "text/plain": [
       "shape: (5, 4)\n",
       "┌─────────┬─────────┬────────┬───────────┐\n",
       "│ user_id ┆ book_id ┆ rating ┆ my_rating │\n",
       "│ ---     ┆ ---     ┆ ---    ┆ ---       │\n",
       "│ i64     ┆ i64     ┆ i64    ┆ i64       │\n",
       "╞═════════╪═════════╪════════╪═══════════╡\n",
       "│ 1       ┆ 258     ┆ 5      ┆ null      │\n",
       "│ 2       ┆ 4081    ┆ 4      ┆ null      │\n",
       "│ 2       ┆ 260     ┆ 5      ┆ null      │\n",
       "│ 2       ┆ 9296    ┆ 5      ┆ null      │\n",
       "│ 2       ┆ 2318    ┆ 3      ┆ null      │\n",
       "└─────────┴─────────┴────────┴───────────┘"
      ]
     },
     "execution_count": 5,
     "metadata": {},
     "output_type": "execute_result"
    }
   ],
   "source": [
    "ratings = ratings.join(my_ratings.select(\"book_id\", \"my_rating\"), how=\"left\", on=\"book_id\")\n",
    "ratings.limit().collect()"
   ]
  },
  {
   "cell_type": "code",
   "execution_count": 6,
   "metadata": {},
   "outputs": [
    {
     "data": {
      "text/html": [
       "<div><style>\n",
       ".dataframe > thead > tr,\n",
       ".dataframe > tbody > tr {\n",
       "  text-align: right;\n",
       "  white-space: pre-wrap;\n",
       "}\n",
       "</style>\n",
       "<small>shape: (5, 2)</small><table border=\"1\" class=\"dataframe\"><thead><tr><th>user_id</th><th>articles_rated_in_common</th></tr><tr><td>i64</td><td>u32</td></tr></thead><tbody><tr><td>40131</td><td>0</td></tr><tr><td>9206</td><td>12</td></tr><tr><td>9608</td><td>3</td></tr><tr><td>1837</td><td>4</td></tr><tr><td>22836</td><td>6</td></tr></tbody></table></div>"
      ],
      "text/plain": [
       "shape: (5, 2)\n",
       "┌─────────┬──────────────────────────┐\n",
       "│ user_id ┆ articles_rated_in_common │\n",
       "│ ---     ┆ ---                      │\n",
       "│ i64     ┆ u32                      │\n",
       "╞═════════╪══════════════════════════╡\n",
       "│ 40131   ┆ 0                        │\n",
       "│ 9206    ┆ 12                       │\n",
       "│ 9608    ┆ 3                        │\n",
       "│ 1837    ┆ 4                        │\n",
       "│ 22836   ┆ 6                        │\n",
       "└─────────┴──────────────────────────┘"
      ]
     },
     "execution_count": 6,
     "metadata": {},
     "output_type": "execute_result"
    }
   ],
   "source": [
    "articles_rated_in_common = ratings.group_by(\"user_id\").agg((pl.col(\"my_rating\").is_not_null()).sum().alias(\"articles_rated_in_common\"))\n",
    "articles_rated_in_common.limit().collect()"
   ]
  },
  {
   "cell_type": "code",
   "execution_count": 7,
   "metadata": {},
   "outputs": [
    {
     "data": {
      "text/html": [
       "<div><style>\n",
       ".dataframe > thead > tr,\n",
       ".dataframe > tbody > tr {\n",
       "  text-align: right;\n",
       "  white-space: pre-wrap;\n",
       "}\n",
       "</style>\n",
       "<small>shape: (5, 5)</small><table border=\"1\" class=\"dataframe\"><thead><tr><th>user_id</th><th>book_id</th><th>rating</th><th>my_rating</th><th>articles_rated_in_common</th></tr><tr><td>i64</td><td>i64</td><td>i64</td><td>i64</td><td>u32</td></tr></thead><tbody><tr><td>2</td><td>4081</td><td>4</td><td>null</td><td>11</td></tr><tr><td>2</td><td>260</td><td>5</td><td>null</td><td>11</td></tr><tr><td>2</td><td>9296</td><td>5</td><td>null</td><td>11</td></tr><tr><td>2</td><td>2318</td><td>3</td><td>null</td><td>11</td></tr><tr><td>2</td><td>26</td><td>4</td><td>4</td><td>11</td></tr></tbody></table></div>"
      ],
      "text/plain": [
       "shape: (5, 5)\n",
       "┌─────────┬─────────┬────────┬───────────┬──────────────────────────┐\n",
       "│ user_id ┆ book_id ┆ rating ┆ my_rating ┆ articles_rated_in_common │\n",
       "│ ---     ┆ ---     ┆ ---    ┆ ---       ┆ ---                      │\n",
       "│ i64     ┆ i64     ┆ i64    ┆ i64       ┆ u32                      │\n",
       "╞═════════╪═════════╪════════╪═══════════╪══════════════════════════╡\n",
       "│ 2       ┆ 4081    ┆ 4      ┆ null      ┆ 11                       │\n",
       "│ 2       ┆ 260     ┆ 5      ┆ null      ┆ 11                       │\n",
       "│ 2       ┆ 9296    ┆ 5      ┆ null      ┆ 11                       │\n",
       "│ 2       ┆ 2318    ┆ 3      ┆ null      ┆ 11                       │\n",
       "│ 2       ┆ 26      ┆ 4      ┆ 4         ┆ 11                       │\n",
       "└─────────┴─────────┴────────┴───────────┴──────────────────────────┘"
      ]
     },
     "execution_count": 7,
     "metadata": {},
     "output_type": "execute_result"
    }
   ],
   "source": [
    "minimum_number_of_books_rated_in_common = 10\n",
    "ratings = ratings.join(articles_rated_in_common, how=\"left\", on=\"user_id\").filter(\n",
    "    pl.col(\"articles_rated_in_common\")>=minimum_number_of_books_rated_in_common)\n",
    "\n",
    "ratings.limit().collect()"
   ]
  },
  {
   "cell_type": "code",
   "execution_count": 8,
   "metadata": {},
   "outputs": [
    {
     "data": {
      "text/html": [
       "<div><style>\n",
       ".dataframe > thead > tr,\n",
       ".dataframe > tbody > tr {\n",
       "  text-align: right;\n",
       "  white-space: pre-wrap;\n",
       "}\n",
       "</style>\n",
       "<small>shape: (5, 2)</small><table border=\"1\" class=\"dataframe\"><thead><tr><th>user_id</th><th>corr</th></tr><tr><td>i64</td><td>f64</td></tr></thead><tbody><tr><td>2</td><td>-0.461906</td></tr><tr><td>4</td><td>-0.526262</td></tr><tr><td>9</td><td>-0.086335</td></tr><tr><td>15</td><td>0.123524</td></tr><tr><td>24</td><td>0.505381</td></tr></tbody></table></div>"
      ],
      "text/plain": [
       "shape: (5, 2)\n",
       "┌─────────┬───────────┐\n",
       "│ user_id ┆ corr      │\n",
       "│ ---     ┆ ---       │\n",
       "│ i64     ┆ f64       │\n",
       "╞═════════╪═══════════╡\n",
       "│ 2       ┆ -0.461906 │\n",
       "│ 4       ┆ -0.526262 │\n",
       "│ 9       ┆ -0.086335 │\n",
       "│ 15      ┆ 0.123524  │\n",
       "│ 24      ┆ 0.505381  │\n",
       "└─────────┴───────────┘"
      ]
     },
     "execution_count": 8,
     "metadata": {},
     "output_type": "execute_result"
    }
   ],
   "source": [
    "similarities = ratings.group_by(\"user_id\", maintain_order=True).agg(pl.corr(\"rating\", \"my_rating\").alias(\"corr\"))\n",
    "similarities.limit().collect()"
   ]
  },
  {
   "cell_type": "code",
   "execution_count": 9,
   "metadata": {},
   "outputs": [],
   "source": [
    "minimal_similarity = 0.7\n",
    "ratings = ratings.join(similarities, on=\"user_id\", how=\"left\")\n",
    "ratings = ratings.filter(pl.col(\"corr\")>minimal_similarity)\n",
    "ratings = ratings.filter(pl.col(\"corr\").is_not_nan())"
   ]
  },
  {
   "cell_type": "code",
   "execution_count": 10,
   "metadata": {},
   "outputs": [
    {
     "data": {
      "text/html": [
       "<div><style>\n",
       ".dataframe > thead > tr,\n",
       ".dataframe > tbody > tr {\n",
       "  text-align: right;\n",
       "  white-space: pre-wrap;\n",
       "}\n",
       "</style>\n",
       "<small>shape: (5, 7)</small><table border=\"1\" class=\"dataframe\"><thead><tr><th>user_id</th><th>book_id</th><th>rating</th><th>my_rating</th><th>articles_rated_in_common</th><th>corr</th><th>ratings_per_article</th></tr><tr><td>i64</td><td>i64</td><td>i64</td><td>i64</td><td>u32</td><td>f64</td><td>u32</td></tr></thead><tbody><tr><td>55</td><td>212</td><td>5</td><td>null</td><td>12</td><td>0.770761</td><td>35</td></tr><tr><td>55</td><td>2051</td><td>1</td><td>null</td><td>12</td><td>0.770761</td><td>8</td></tr><tr><td>55</td><td>264</td><td>5</td><td>null</td><td>12</td><td>0.770761</td><td>32</td></tr><tr><td>55</td><td>397</td><td>2</td><td>1</td><td>12</td><td>0.770761</td><td>15</td></tr><tr><td>55</td><td>653</td><td>5</td><td>null</td><td>12</td><td>0.770761</td><td>11</td></tr></tbody></table></div>"
      ],
      "text/plain": [
       "shape: (5, 7)\n",
       "┌─────────┬─────────┬────────┬───────────┬────────────────────────┬──────────┬─────────────────────┐\n",
       "│ user_id ┆ book_id ┆ rating ┆ my_rating ┆ articles_rated_in_comm ┆ corr     ┆ ratings_per_article │\n",
       "│ ---     ┆ ---     ┆ ---    ┆ ---       ┆ on                     ┆ ---      ┆ ---                 │\n",
       "│ i64     ┆ i64     ┆ i64    ┆ i64       ┆ ---                    ┆ f64      ┆ u32                 │\n",
       "│         ┆         ┆        ┆           ┆ u32                    ┆          ┆                     │\n",
       "╞═════════╪═════════╪════════╪═══════════╪════════════════════════╪══════════╪═════════════════════╡\n",
       "│ 55      ┆ 212     ┆ 5      ┆ null      ┆ 12                     ┆ 0.770761 ┆ 35                  │\n",
       "│ 55      ┆ 2051    ┆ 1      ┆ null      ┆ 12                     ┆ 0.770761 ┆ 8                   │\n",
       "│ 55      ┆ 264     ┆ 5      ┆ null      ┆ 12                     ┆ 0.770761 ┆ 32                  │\n",
       "│ 55      ┆ 397     ┆ 2      ┆ 1         ┆ 12                     ┆ 0.770761 ┆ 15                  │\n",
       "│ 55      ┆ 653     ┆ 5      ┆ null      ┆ 12                     ┆ 0.770761 ┆ 11                  │\n",
       "└─────────┴─────────┴────────┴───────────┴────────────────────────┴──────────┴─────────────────────┘"
      ]
     },
     "execution_count": 10,
     "metadata": {},
     "output_type": "execute_result"
    }
   ],
   "source": [
    "minimal_number_of_ratings = 6\n",
    "ratings_per_article = ratings.group_by(\"book_id\").agg((pl.col(\"rating\").is_not_null()).sum().alias(\"ratings_per_article\"))\n",
    "ratings = ratings.join(ratings_per_article, on=\"book_id\", how=\"left\")\n",
    "ratings = ratings.filter(pl.col(\"ratings_per_article\") >= minimal_number_of_ratings)\n",
    "ratings.limit().collect()"
   ]
  },
  {
   "cell_type": "code",
   "execution_count": 11,
   "metadata": {},
   "outputs": [
    {
     "data": {
      "text/html": [
       "<div><style>\n",
       ".dataframe > thead > tr,\n",
       ".dataframe > tbody > tr {\n",
       "  text-align: right;\n",
       "  white-space: pre-wrap;\n",
       "}\n",
       "</style>\n",
       "<small>shape: (20, 2)</small><table border=\"1\" class=\"dataframe\"><thead><tr><th>book_id</th><th>prediction</th></tr><tr><td>i64</td><td>f64</td></tr></thead><tbody><tr><td>212</td><td>4.167762</td></tr><tr><td>2051</td><td>2.991773</td></tr><tr><td>264</td><td>3.787874</td></tr><tr><td>397</td><td>2.692973</td></tr><tr><td>653</td><td>4.115781</td></tr><tr><td>&hellip;</td><td>&hellip;</td></tr><tr><td>934</td><td>4.390389</td></tr><tr><td>614</td><td>3.698881</td></tr><tr><td>2024</td><td>3.337885</td></tr><tr><td>1624</td><td>3.536167</td></tr><tr><td>178</td><td>4.090166</td></tr></tbody></table></div>"
      ],
      "text/plain": [
       "shape: (20, 2)\n",
       "┌─────────┬────────────┐\n",
       "│ book_id ┆ prediction │\n",
       "│ ---     ┆ ---        │\n",
       "│ i64     ┆ f64        │\n",
       "╞═════════╪════════════╡\n",
       "│ 212     ┆ 4.167762   │\n",
       "│ 2051    ┆ 2.991773   │\n",
       "│ 264     ┆ 3.787874   │\n",
       "│ 397     ┆ 2.692973   │\n",
       "│ 653     ┆ 4.115781   │\n",
       "│ …       ┆ …          │\n",
       "│ 934     ┆ 4.390389   │\n",
       "│ 614     ┆ 3.698881   │\n",
       "│ 2024    ┆ 3.337885   │\n",
       "│ 1624    ┆ 3.536167   │\n",
       "│ 178     ┆ 4.090166   │\n",
       "└─────────┴────────────┘"
      ]
     },
     "execution_count": 11,
     "metadata": {},
     "output_type": "execute_result"
    }
   ],
   "source": [
    "def predict_func():\n",
    "    return ((pl.col(\"rating\")*pl.col(\"corr\")).sum())/(pl.col(\"corr\").sum())\n",
    "predictions = ratings.group_by(\"book_id\", maintain_order=True).agg(predict_func().alias(\"prediction\")).select(\"book_id\", \"prediction\")\n",
    "predictions.limit(20).collect()"
   ]
  },
  {
   "cell_type": "code",
   "execution_count": 12,
   "metadata": {},
   "outputs": [
    {
     "data": {
      "text/html": [
       "<div><style>\n",
       ".dataframe > thead > tr,\n",
       ".dataframe > tbody > tr {\n",
       "  text-align: right;\n",
       "  white-space: pre-wrap;\n",
       "}\n",
       "</style>\n",
       "<small>shape: (20, 4)</small><table border=\"1\" class=\"dataframe\"><thead><tr><th>book_id</th><th>prediction</th><th>title</th><th>authors</th></tr><tr><td>i64</td><td>f64</td><td>str</td><td>str</td></tr></thead><tbody><tr><td>757</td><td>4.884893</td><td>&quot;Lonesome Dove&quot;</td><td>&quot;Larry McMurtry…</td></tr><tr><td>2757</td><td>4.852697</td><td>&quot;Ahab&#x27;s Wife, o…</td><td>&quot;Sena Jeter Nas…</td></tr><tr><td>1909</td><td>4.844823</td><td>&quot;Someone Knows …</td><td>&quot;Lawrence Hill&quot;</td></tr><tr><td>2247</td><td>4.82878</td><td>&quot;The Diving Bel…</td><td>&quot;Jean-Dominique…</td></tr><tr><td>267</td><td>4.821673</td><td>&quot;The Nightingal…</td><td>&quot;Kristin Hannah…</td></tr><tr><td>&hellip;</td><td>&hellip;</td><td>&hellip;</td><td>&hellip;</td></tr><tr><td>743</td><td>4.712646</td><td>&quot;Lamb: The Gosp…</td><td>&quot;Christopher Mo…</td></tr><tr><td>779</td><td>4.709997</td><td>&quot;A Fine Balance…</td><td>&quot;Rohinton Mistr…</td></tr><tr><td>2353</td><td>4.701241</td><td>&quot;Season of Mist…</td><td>&quot;Neil Gaiman, M…</td></tr><tr><td>3358</td><td>4.70059</td><td>&quot;The Hitchhiker…</td><td>&quot;Douglas Adams&quot;</td></tr><tr><td>998</td><td>4.699879</td><td>&quot;The Monster at…</td><td>&quot;Jon Stone, Mic…</td></tr></tbody></table></div>"
      ],
      "text/plain": [
       "shape: (20, 4)\n",
       "┌─────────┬────────────┬───────────────────────────────────┬───────────────────────────────────┐\n",
       "│ book_id ┆ prediction ┆ title                             ┆ authors                           │\n",
       "│ ---     ┆ ---        ┆ ---                               ┆ ---                               │\n",
       "│ i64     ┆ f64        ┆ str                               ┆ str                               │\n",
       "╞═════════╪════════════╪═══════════════════════════════════╪═══════════════════════════════════╡\n",
       "│ 757     ┆ 4.884893   ┆ Lonesome Dove                     ┆ Larry McMurtry                    │\n",
       "│ 2757    ┆ 4.852697   ┆ Ahab's Wife, or The Star-Gazer    ┆ Sena Jeter Naslund                │\n",
       "│ 1909    ┆ 4.844823   ┆ Someone Knows My Name             ┆ Lawrence Hill                     │\n",
       "│ 2247    ┆ 4.82878    ┆ The Diving Bell and the Butterfl… ┆ Jean-Dominique Bauby, Jeremy Leg… │\n",
       "│ 267     ┆ 4.821673   ┆ The Nightingale                   ┆ Kristin Hannah                    │\n",
       "│ …       ┆ …          ┆ …                                 ┆ …                                 │\n",
       "│ 743     ┆ 4.712646   ┆ Lamb: The Gospel According to Bi… ┆ Christopher Moore                 │\n",
       "│ 779     ┆ 4.709997   ┆ A Fine Balance                    ┆ Rohinton Mistry                   │\n",
       "│ 2353    ┆ 4.701241   ┆ Season of Mists (The Sandman #4)  ┆ Neil Gaiman, Matt Wagner, George… │\n",
       "│ 3358    ┆ 4.70059    ┆ The Hitchhiker's Guide to the Ga… ┆ Douglas Adams                     │\n",
       "│ 998     ┆ 4.699879   ┆ The Monster at the End of this B… ┆ Jon Stone, Michael J. Smollin     │\n",
       "└─────────┴────────────┴───────────────────────────────────┴───────────────────────────────────┘"
      ]
     },
     "execution_count": 12,
     "metadata": {},
     "output_type": "execute_result"
    }
   ],
   "source": [
    "predictions = predictions.join(books, how=\"left\", on=\"book_id\")\n",
    "predictions = predictions.collect().sort(by=\"prediction\", descending=True).limit(20)\n",
    "predictions"
   ]
  },
  {
   "cell_type": "code",
   "execution_count": 22,
   "metadata": {},
   "outputs": [
    {
     "data": {
      "text/html": [
       "<div><style>\n",
       ".dataframe > thead > tr,\n",
       ".dataframe > tbody > tr {\n",
       "  text-align: right;\n",
       "  white-space: pre-wrap;\n",
       "}\n",
       "</style>\n",
       "<small>shape: (20, 4)</small><table border=\"1\" class=\"dataframe\"><thead><tr><th>book_id</th><th>prediction</th><th>title</th><th>authors</th></tr><tr><td>i64</td><td>f64</td><td>str</td><td>str</td></tr></thead><tbody><tr><td>757</td><td>4.884893</td><td>&quot;Lonesome Dove&quot;</td><td>&quot;Larry McMurtry…</td></tr><tr><td>2757</td><td>4.852697</td><td>&quot;Ahab&#x27;s Wife, o…</td><td>&quot;Sena Jeter Nas…</td></tr><tr><td>1909</td><td>4.844823</td><td>&quot;Someone Knows …</td><td>&quot;Lawrence Hill&quot;</td></tr><tr><td>2247</td><td>4.82878</td><td>&quot;The Diving Bel…</td><td>&quot;Jean-Dominique…</td></tr><tr><td>267</td><td>4.821673</td><td>&quot;The Nightingal…</td><td>&quot;Kristin Hannah…</td></tr><tr><td>&hellip;</td><td>&hellip;</td><td>&hellip;</td><td>&hellip;</td></tr><tr><td>743</td><td>4.712646</td><td>&quot;Lamb: The Gosp…</td><td>&quot;Christopher Mo…</td></tr><tr><td>779</td><td>4.709997</td><td>&quot;A Fine Balance…</td><td>&quot;Rohinton Mistr…</td></tr><tr><td>2353</td><td>4.701241</td><td>&quot;Season of Mist…</td><td>&quot;Neil Gaiman, M…</td></tr><tr><td>3358</td><td>4.70059</td><td>&quot;The Hitchhiker…</td><td>&quot;Douglas Adams&quot;</td></tr><tr><td>998</td><td>4.699879</td><td>&quot;The Monster at…</td><td>&quot;Jon Stone, Mic…</td></tr></tbody></table></div>"
      ],
      "text/plain": [
       "shape: (20, 4)\n",
       "┌─────────┬────────────┬───────────────────────────────────┬───────────────────────────────────┐\n",
       "│ book_id ┆ prediction ┆ title                             ┆ authors                           │\n",
       "│ ---     ┆ ---        ┆ ---                               ┆ ---                               │\n",
       "│ i64     ┆ f64        ┆ str                               ┆ str                               │\n",
       "╞═════════╪════════════╪═══════════════════════════════════╪═══════════════════════════════════╡\n",
       "│ 757     ┆ 4.884893   ┆ Lonesome Dove                     ┆ Larry McMurtry                    │\n",
       "│ 2757    ┆ 4.852697   ┆ Ahab's Wife, or The Star-Gazer    ┆ Sena Jeter Naslund                │\n",
       "│ 1909    ┆ 4.844823   ┆ Someone Knows My Name             ┆ Lawrence Hill                     │\n",
       "│ 2247    ┆ 4.82878    ┆ The Diving Bell and the Butterfl… ┆ Jean-Dominique Bauby, Jeremy Leg… │\n",
       "│ 267     ┆ 4.821673   ┆ The Nightingale                   ┆ Kristin Hannah                    │\n",
       "│ …       ┆ …          ┆ …                                 ┆ …                                 │\n",
       "│ 743     ┆ 4.712646   ┆ Lamb: The Gospel According to Bi… ┆ Christopher Moore                 │\n",
       "│ 779     ┆ 4.709997   ┆ A Fine Balance                    ┆ Rohinton Mistry                   │\n",
       "│ 2353    ┆ 4.701241   ┆ Season of Mists (The Sandman #4)  ┆ Neil Gaiman, Matt Wagner, George… │\n",
       "│ 3358    ┆ 4.70059    ┆ The Hitchhiker's Guide to the Ga… ┆ Douglas Adams                     │\n",
       "│ 998     ┆ 4.699879   ┆ The Monster at the End of this B… ┆ Jon Stone, Michael J. Smollin     │\n",
       "└─────────┴────────────┴───────────────────────────────────┴───────────────────────────────────┘"
      ]
     },
     "execution_count": 22,
     "metadata": {},
     "output_type": "execute_result"
    }
   ],
   "source": [
    "def polars_collaborative_filtering(ratings, my_ratings, minimal_similarity=0.7, minimal_number_of_ratings=6, minimum_number_of_books_rated_in_common=10):\n",
    "    \"\"\"\n",
    "    Performs collaborative filtering on a dataset of book ratings.\n",
    "\n",
    "    Args:\n",
    "        ratings (DataFrame): The dataset of book ratings.\n",
    "        my_ratings (DataFrame): The user's own ratings.\n",
    "        minimal_similarity (float, optional): The minimum similarity threshold between users. Defaults to 0.7.\n",
    "        minimal_number_of_ratings (int, optional): The minimum number of ratings required for a book to be considered. Defaults to 6.\n",
    "        minimum_number_of_books_rated_in_common (int, optional): The minimum number of books rated in common between users. Defaults to 10.\n",
    "\n",
    "    Returns:\n",
    "        DataFrame: The predicted ratings for books.\n",
    "\n",
    "    \"\"\"\n",
    "    # Join the ratings dataset with the user's own ratings\n",
    "    ratings = ratings.join(my_ratings.select(\"book_id\", \"my_rating\"), how=\"left\", on=\"book_id\")\n",
    "    \n",
    "    # Calculate the number of articles rated in common for each user\n",
    "    articles_rated_in_common = ratings.group_by(\"user_id\").agg((pl.col(\"my_rating\").is_not_null()).sum().alias(\"articles_rated_in_common\"))\n",
    "    \n",
    "    # Filter out users who have rated less than the minimum number of books in common\n",
    "    ratings = ratings.join(articles_rated_in_common, how=\"left\", on=\"user_id\").filter(\n",
    "        pl.col(\"articles_rated_in_common\") >= minimum_number_of_books_rated_in_common)\n",
    "    \n",
    "    # Calculate the similarity between users based on their ratings\n",
    "    similarities = ratings.group_by(\"user_id\", maintain_order=True).agg(pl.corr(\"rating\", \"my_rating\").alias(\"corr\"))\n",
    "    \n",
    "    # Filter out users whose similarity is below the minimum similarity threshold\n",
    "    ratings = ratings.join(similarities, on=\"user_id\", how=\"left\")\n",
    "    ratings = ratings.filter(pl.col(\"corr\") > minimal_similarity)\n",
    "    ratings = ratings.filter(pl.col(\"corr\").is_not_nan())\n",
    "    \n",
    "    # Calculate the number of ratings per article\n",
    "    ratings_per_article = ratings.group_by(\"book_id\").agg((pl.col(\"rating\").is_not_null()).sum().alias(\"ratings_per_article\"))\n",
    "    \n",
    "    # Filter out articles that have less than the minimum number of ratings\n",
    "    ratings = ratings.join(ratings_per_article, on=\"book_id\", how=\"left\")\n",
    "    ratings = ratings.filter(pl.col(\"ratings_per_article\") >= minimal_number_of_ratings)\n",
    "    \n",
    "    # Define the prediction function\n",
    "    def predict_func():\n",
    "        return ((pl.col(\"rating\") * pl.col(\"corr\")).sum()) / (pl.col(\"corr\").sum())\n",
    "    \n",
    "    # Calculate the predicted ratings for each book\n",
    "    predictions = ratings.group_by(\"book_id\", maintain_order=True).agg(predict_func().alias(\"prediction\")).select(\"book_id\", \"prediction\")\n",
    "    \n",
    "    return predictions\n",
    "\n",
    "\n",
    "ratings = pl.scan_csv(\"ratings.csv\").select(\"user_id\", \"book_id\", \"rating\")\n",
    "predictions = polars_collaborative_filtering(ratings, my_ratings)\n",
    "predictions = predictions.join(books, how=\"left\", on=\"book_id\")\n",
    "predictions = predictions.collect().sort(by=\"prediction\", descending=True).limit(20)\n",
    "predictions"
   ]
  },
  {
   "cell_type": "code",
   "execution_count": 23,
   "metadata": {},
   "outputs": [],
   "source": [
    "import pandas as pd\n",
    "\n",
    "def pandas_collaborative_filtering(ratings, my_ratings, minimal_similarity=0.7, minimal_number_of_ratings=6, minimum_number_of_books_rated_in_common=10):\n",
    "    \"\"\"\n",
    "    Performs collaborative filtering on a dataset of book ratings.\n",
    "\n",
    "    Args:\n",
    "        ratings (DataFrame): The dataset of book ratings.\n",
    "        my_ratings (DataFrame): The user's own ratings.\n",
    "        minimal_similarity (float, optional): The minimum similarity threshold between users. Defaults to 0.7.\n",
    "        minimal_number_of_ratings (int, optional): The minimum number of ratings required for a book to be considered. Defaults to 6.\n",
    "        minimum_number_of_books_rated_in_common (int, optional): The minimum number of books rated in common between users. Defaults to 10.\n",
    "\n",
    "    Returns:\n",
    "        DataFrame: The predicted ratings for books.\n",
    "\n",
    "    \"\"\"\n",
    "    # Join the ratings dataset with the user's own ratings\n",
    "    ratings = pd.merge(ratings, my_ratings[[\"book_id\", \"my_rating\"]], how=\"left\", on=\"book_id\")\n",
    "\n",
    "    # Calculate the number of articles rated in common for each user\n",
    "    articles_rated_in_common = ratings.groupby(\"user_id\").agg({'my_rating': lambda x: x.notnull().sum()}).rename(columns={\"my_rating\": \"articles_rated_in_common\"})\n",
    "    \n",
    "    # Filter out users who have rated less than the minimum number of books in common\n",
    "    ratings = pd.merge(ratings, articles_rated_in_common, how=\"left\", on=\"user_id\")\n",
    "    ratings = ratings[ratings[\"articles_rated_in_common\"]>=minimum_number_of_books_rated_in_common]\n",
    "    \n",
    "    # Calculate the similarity between users based on their ratings\n",
    "    similarities = ratings.groupby(\"user_id\")[[\"rating\", \"my_rating\"]].corr().unstack().iloc[:, 1].rename(\"corr\")\n",
    "\n",
    "    # Filter out users whose similarity is below the minimum similarity threshold\n",
    "    ratings = ratings.join(similarities, on=\"user_id\", how=\"left\")\n",
    "    ratings = ratings[ratings[\"corr\"]>minimal_similarity]\n",
    "    ratings = ratings[ratings[\"corr\"].notna()]\n",
    "    \n",
    "    # Calculate the number of ratings per article\n",
    "    ratings_per_article = ratings.groupby(\"book_id\").agg({'rating': lambda x: x.notnull().sum()}).rename(columns={\"rating\": \"ratings_per_article\"})\n",
    "    \n",
    "    # Filter out articles that have less than the minimum number of ratings\n",
    "    ratings = pd.merge(ratings, ratings_per_article, on=\"book_id\", how=\"left\")\n",
    "    ratings = ratings[ratings[\"ratings_per_article\"] >= minimal_number_of_ratings]\n",
    "    \n",
    "    # Define the prediction function\n",
    "    def predict_func(x):\n",
    "        return ((x[\"rating\"]*x[\"corr\"]).sum())/(x[\"corr\"].sum())\n",
    "    \n",
    "    # Calculate the predicted ratings for each book\n",
    "    predictions = ratings.groupby(\"book_id\").apply(predict_func).to_frame(\"prediction\")\n",
    "    \n",
    "    return predictions"
   ]
  },
  {
   "cell_type": "code",
   "execution_count": 24,
   "metadata": {},
   "outputs": [
    {
     "data": {
      "text/html": [
       "<div>\n",
       "<style scoped>\n",
       "    .dataframe tbody tr th:only-of-type {\n",
       "        vertical-align: middle;\n",
       "    }\n",
       "\n",
       "    .dataframe tbody tr th {\n",
       "        vertical-align: top;\n",
       "    }\n",
       "\n",
       "    .dataframe thead th {\n",
       "        text-align: right;\n",
       "    }\n",
       "</style>\n",
       "<table border=\"1\" class=\"dataframe\">\n",
       "  <thead>\n",
       "    <tr style=\"text-align: right;\">\n",
       "      <th></th>\n",
       "      <th>book_id</th>\n",
       "      <th>prediction</th>\n",
       "      <th>title</th>\n",
       "      <th>authors</th>\n",
       "    </tr>\n",
       "  </thead>\n",
       "  <tbody>\n",
       "    <tr>\n",
       "      <th>597</th>\n",
       "      <td>757</td>\n",
       "      <td>4.884893</td>\n",
       "      <td>Lonesome Dove</td>\n",
       "      <td>Larry McMurtry</td>\n",
       "    </tr>\n",
       "    <tr>\n",
       "      <th>1087</th>\n",
       "      <td>2757</td>\n",
       "      <td>4.852697</td>\n",
       "      <td>Ahab's Wife, or The Star-Gazer</td>\n",
       "      <td>Sena Jeter Naslund</td>\n",
       "    </tr>\n",
       "    <tr>\n",
       "      <th>978</th>\n",
       "      <td>1909</td>\n",
       "      <td>4.844823</td>\n",
       "      <td>Someone Knows My Name</td>\n",
       "      <td>Lawrence Hill</td>\n",
       "    </tr>\n",
       "    <tr>\n",
       "      <th>1033</th>\n",
       "      <td>2247</td>\n",
       "      <td>4.828780</td>\n",
       "      <td>The Diving Bell and the Butterfly</td>\n",
       "      <td>Jean-Dominique Bauby, Jeremy Leggatt</td>\n",
       "    </tr>\n",
       "    <tr>\n",
       "      <th>251</th>\n",
       "      <td>267</td>\n",
       "      <td>4.821673</td>\n",
       "      <td>The Nightingale</td>\n",
       "      <td>Kristin Hannah</td>\n",
       "    </tr>\n",
       "    <tr>\n",
       "      <th>885</th>\n",
       "      <td>1496</td>\n",
       "      <td>4.810564</td>\n",
       "      <td>A Storm of Swords: Blood and Gold (A Song of I...</td>\n",
       "      <td>George R.R. Martin</td>\n",
       "    </tr>\n",
       "    <tr>\n",
       "      <th>917</th>\n",
       "      <td>1597</td>\n",
       "      <td>4.778453</td>\n",
       "      <td>The Power of One (The Power of One, #1)</td>\n",
       "      <td>Bryce Courtenay</td>\n",
       "    </tr>\n",
       "    <tr>\n",
       "      <th>842</th>\n",
       "      <td>1338</td>\n",
       "      <td>4.777642</td>\n",
       "      <td>The Book of Mormon: Another Testament of Jesus...</td>\n",
       "      <td>Anonymous, Joseph Smith Jr.</td>\n",
       "    </tr>\n",
       "    <tr>\n",
       "      <th>860</th>\n",
       "      <td>1380</td>\n",
       "      <td>4.772905</td>\n",
       "      <td>The Complete Maus (Maus, #1-2)</td>\n",
       "      <td>Art Spiegelman</td>\n",
       "    </tr>\n",
       "    <tr>\n",
       "      <th>140</th>\n",
       "      <td>141</td>\n",
       "      <td>4.755184</td>\n",
       "      <td>The Martian</td>\n",
       "      <td>Andy Weir</td>\n",
       "    </tr>\n",
       "    <tr>\n",
       "      <th>422</th>\n",
       "      <td>490</td>\n",
       "      <td>4.745223</td>\n",
       "      <td>Maus I: A Survivor's Tale: My Father Bleeds Hi...</td>\n",
       "      <td>Art Spiegelman</td>\n",
       "    </tr>\n",
       "    <tr>\n",
       "      <th>721</th>\n",
       "      <td>994</td>\n",
       "      <td>4.743485</td>\n",
       "      <td>All Creatures Great and Small (All Creatures G...</td>\n",
       "      <td>James Herriot</td>\n",
       "    </tr>\n",
       "    <tr>\n",
       "      <th>438</th>\n",
       "      <td>513</td>\n",
       "      <td>4.738403</td>\n",
       "      <td>The Hiding Place: The Triumphant True Story of...</td>\n",
       "      <td>Corrie ten Boom, John Sherrill, Elizabeth Sher...</td>\n",
       "    </tr>\n",
       "    <tr>\n",
       "      <th>287</th>\n",
       "      <td>312</td>\n",
       "      <td>4.731205</td>\n",
       "      <td>The Graveyard Book</td>\n",
       "      <td>Neil Gaiman, Dave McKean</td>\n",
       "    </tr>\n",
       "    <tr>\n",
       "      <th>823</th>\n",
       "      <td>1265</td>\n",
       "      <td>4.722005</td>\n",
       "      <td>Maus II: A Survivor's Tale: And Here My Troubl...</td>\n",
       "      <td>Art Spiegelman</td>\n",
       "    </tr>\n",
       "    <tr>\n",
       "      <th>591</th>\n",
       "      <td>743</td>\n",
       "      <td>4.712646</td>\n",
       "      <td>Lamb: The Gospel According to Biff, Christ's C...</td>\n",
       "      <td>Christopher Moore</td>\n",
       "    </tr>\n",
       "    <tr>\n",
       "      <th>611</th>\n",
       "      <td>779</td>\n",
       "      <td>4.709997</td>\n",
       "      <td>A Fine Balance</td>\n",
       "      <td>Rohinton Mistry</td>\n",
       "    </tr>\n",
       "    <tr>\n",
       "      <th>1048</th>\n",
       "      <td>2353</td>\n",
       "      <td>4.701241</td>\n",
       "      <td>Season of Mists (The Sandman #4)</td>\n",
       "      <td>Neil Gaiman, Matt Wagner, George Pratt, Dick G...</td>\n",
       "    </tr>\n",
       "    <tr>\n",
       "      <th>1110</th>\n",
       "      <td>3358</td>\n",
       "      <td>4.700590</td>\n",
       "      <td>The Hitchhiker's Guide to the Galaxy: A Trilog...</td>\n",
       "      <td>Douglas Adams</td>\n",
       "    </tr>\n",
       "    <tr>\n",
       "      <th>723</th>\n",
       "      <td>998</td>\n",
       "      <td>4.699879</td>\n",
       "      <td>The Monster at the End of this Book</td>\n",
       "      <td>Jon Stone, Michael J. Smollin</td>\n",
       "    </tr>\n",
       "  </tbody>\n",
       "</table>\n",
       "</div>"
      ],
      "text/plain": [
       "      book_id  prediction                                              title  \\\n",
       "597       757    4.884893                                      Lonesome Dove   \n",
       "1087     2757    4.852697                     Ahab's Wife, or The Star-Gazer   \n",
       "978      1909    4.844823                              Someone Knows My Name   \n",
       "1033     2247    4.828780                  The Diving Bell and the Butterfly   \n",
       "251       267    4.821673                                    The Nightingale   \n",
       "885      1496    4.810564  A Storm of Swords: Blood and Gold (A Song of I...   \n",
       "917      1597    4.778453            The Power of One (The Power of One, #1)   \n",
       "842      1338    4.777642  The Book of Mormon: Another Testament of Jesus...   \n",
       "860      1380    4.772905                     The Complete Maus (Maus, #1-2)   \n",
       "140       141    4.755184                                        The Martian   \n",
       "422       490    4.745223  Maus I: A Survivor's Tale: My Father Bleeds Hi...   \n",
       "721       994    4.743485  All Creatures Great and Small (All Creatures G...   \n",
       "438       513    4.738403  The Hiding Place: The Triumphant True Story of...   \n",
       "287       312    4.731205                                 The Graveyard Book   \n",
       "823      1265    4.722005  Maus II: A Survivor's Tale: And Here My Troubl...   \n",
       "591       743    4.712646  Lamb: The Gospel According to Biff, Christ's C...   \n",
       "611       779    4.709997                                     A Fine Balance   \n",
       "1048     2353    4.701241                   Season of Mists (The Sandman #4)   \n",
       "1110     3358    4.700590  The Hitchhiker's Guide to the Galaxy: A Trilog...   \n",
       "723       998    4.699879                The Monster at the End of this Book   \n",
       "\n",
       "                                                authors  \n",
       "597                                      Larry McMurtry  \n",
       "1087                                 Sena Jeter Naslund  \n",
       "978                                       Lawrence Hill  \n",
       "1033               Jean-Dominique Bauby, Jeremy Leggatt  \n",
       "251                                      Kristin Hannah  \n",
       "885                                  George R.R. Martin  \n",
       "917                                     Bryce Courtenay  \n",
       "842                         Anonymous, Joseph Smith Jr.  \n",
       "860                                      Art Spiegelman  \n",
       "140                                           Andy Weir  \n",
       "422                                      Art Spiegelman  \n",
       "721                                       James Herriot  \n",
       "438   Corrie ten Boom, John Sherrill, Elizabeth Sher...  \n",
       "287                            Neil Gaiman, Dave McKean  \n",
       "823                                      Art Spiegelman  \n",
       "591                                   Christopher Moore  \n",
       "611                                     Rohinton Mistry  \n",
       "1048  Neil Gaiman, Matt Wagner, George Pratt, Dick G...  \n",
       "1110                                      Douglas Adams  \n",
       "723                       Jon Stone, Michael J. Smollin  "
      ]
     },
     "execution_count": 24,
     "metadata": {},
     "output_type": "execute_result"
    }
   ],
   "source": [
    "ratings_pd, my_ratings_pd = ratings.collect().to_pandas(), my_ratings.collect().to_pandas()\n",
    "predictions = pandas_collaborative_filtering(ratings_pd, my_ratings_pd)\n",
    "predictions = pd.merge(predictions, books.collect().to_pandas(), how=\"left\", on=\"book_id\")\n",
    "predictions = predictions.sort_values(by=\"prediction\", ascending=False)\n",
    "predictions.head(20)"
   ]
  },
  {
   "cell_type": "code",
   "execution_count": 25,
   "metadata": {},
   "outputs": [],
   "source": [
    "from timeit import timeit\n",
    "\n",
    "n = 10\n",
    "polars_time_lazy = timeit(lambda: polars_collaborative_filtering(ratings, my_ratings).collect(), number=n)\n",
    "\n",
    "ratings_df, my_ratings_df = ratings.collect(), my_ratings.collect()\n",
    "polars_time_eager = timeit(lambda: polars_collaborative_filtering(ratings_df, my_ratings_df), number=n)\n",
    "\n",
    "pandas_time = timeit(lambda: pandas_collaborative_filtering(ratings_pd, my_ratings_pd), number=n)"
   ]
  },
  {
   "cell_type": "code",
   "execution_count": 27,
   "metadata": {},
   "outputs": [
    {
     "name": "stdout",
     "output_type": "stream",
     "text": [
      "Polars (lazy): 0.64 seconds\n",
      "Polars (eager): 0.13 seconds\n",
      "Pandas: 3.32 seconds\n"
     ]
    }
   ],
   "source": [
    "print(f\"Polars (lazy): {polars_time_lazy/n:.2f} seconds\")\n",
    "print(f\"Polars (eager): {polars_time_eager/n:.2f} seconds\")\n",
    "print(f\"Pandas: {pandas_time/n:.2f} seconds\")"
   ]
  },
  {
   "cell_type": "code",
   "execution_count": null,
   "metadata": {},
   "outputs": [],
   "source": []
  }
 ],
 "metadata": {
  "kernelspec": {
   "display_name": "Python 3",
   "language": "python",
   "name": "python3"
  },
  "language_info": {
   "codemirror_mode": {
    "name": "ipython",
    "version": 3
   },
   "file_extension": ".py",
   "mimetype": "text/x-python",
   "name": "python",
   "nbconvert_exporter": "python",
   "pygments_lexer": "ipython3",
   "version": "3.12.1"
  }
 },
 "nbformat": 4,
 "nbformat_minor": 4
}
