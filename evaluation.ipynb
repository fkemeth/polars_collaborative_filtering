{
 "cells": [
  {
   "cell_type": "code",
   "execution_count": 55,
   "metadata": {},
   "outputs": [],
   "source": [
    "from tqdm.auto import tqdm\n",
    "import polars as pl\n",
    "from src.polars_collaborative_filtering.collaborative_filtering import CollaborativeFilter\n",
    "from sklearn.model_selection import KFold\n",
    "\n",
    "books = pl.scan_csv(\"books.csv\").select(\"book_id\", \"title\", \"authors\")\n",
    "ratings = pl.scan_csv(\"ratings.csv\").select(\"user_id\", \"book_id\", \"rating\").rename({\"book_id\": \"item_id\"})"
   ]
  },
  {
   "cell_type": "code",
   "execution_count": 56,
   "metadata": {},
   "outputs": [],
   "source": [
    "cf = CollaborativeFilter(\n",
    "        correlation_method = \"pearson\",\n",
    "        similarity_threshold = 0.7,\n",
    "        minimal_number_of_ratings = 0,\n",
    "        minimum_number_of_books_rated_in_common = 0,\n",
    "        neighborhood_method = \"threshold\",)"
   ]
  },
  {
   "cell_type": "code",
   "execution_count": 57,
   "metadata": {},
   "outputs": [],
   "source": [
    "user_ids = ratings.select(\"user_id\").unique().sort(\"user_id\").collect()\n",
    "user_kf = KFold(n_splits=len(user_ids), shuffle=True, random_state=42)"
   ]
  },
  {
   "cell_type": "code",
   "execution_count": 58,
   "metadata": {},
   "outputs": [],
   "source": [
    "books, ratings = pl.collect_all([books, ratings])"
   ]
  },
  {
   "cell_type": "code",
   "execution_count": 66,
   "metadata": {},
   "outputs": [
    {
     "name": "stderr",
     "output_type": "stream",
     "text": [
      "  4%|▍         | 18/424 [05:12<1:57:20, 17.34s/it]\n"
     ]
    },
    {
     "ename": "KeyboardInterrupt",
     "evalue": "",
     "output_type": "error",
     "traceback": [
      "\u001b[0;31m---------------------------------------------------------------------------\u001b[0m",
      "\u001b[0;31mKeyboardInterrupt\u001b[0m                         Traceback (most recent call last)",
      "Cell \u001b[0;32mIn[66], line 15\u001b[0m\n\u001b[1;32m     12\u001b[0m input_ratings \u001b[38;5;241m=\u001b[39m user_ratings\u001b[38;5;241m.\u001b[39mfilter(pl\u001b[38;5;241m.\u001b[39mcol(\u001b[38;5;124m\"\u001b[39m\u001b[38;5;124mitem_id\u001b[39m\u001b[38;5;124m\"\u001b[39m)\u001b[38;5;241m.\u001b[39mis_in(ratings_user_itemids[train_index]))\n\u001b[1;32m     13\u001b[0m test_ratings \u001b[38;5;241m=\u001b[39m user_ratings\u001b[38;5;241m.\u001b[39mfilter(pl\u001b[38;5;241m.\u001b[39mcol(\u001b[38;5;124m\"\u001b[39m\u001b[38;5;124mitem_id\u001b[39m\u001b[38;5;124m\"\u001b[39m)\u001b[38;5;241m.\u001b[39mis_in(ratings_user_itemids[test_index]))\n\u001b[0;32m---> 15\u001b[0m predictions \u001b[38;5;241m=\u001b[39m \u001b[43mcf\u001b[49m\u001b[38;5;241;43m.\u001b[39;49m\u001b[43mpredict\u001b[49m\u001b[43m(\u001b[49m\u001b[43mtrain_ratings\u001b[49m\u001b[43m,\u001b[49m\u001b[43m \u001b[49m\u001b[43minput_ratings\u001b[49m\u001b[43m,\u001b[49m\u001b[43m \u001b[49m\u001b[38;5;28;43;01mNone\u001b[39;49;00m\u001b[43m)\u001b[49m\n\u001b[1;32m     16\u001b[0m predictions \u001b[38;5;241m=\u001b[39m predictions\u001b[38;5;241m.\u001b[39mjoin(test_ratings, on\u001b[38;5;241m=\u001b[39m[\u001b[38;5;124m\"\u001b[39m\u001b[38;5;124mitem_id\u001b[39m\u001b[38;5;124m\"\u001b[39m], how\u001b[38;5;241m=\u001b[39m\u001b[38;5;124m\"\u001b[39m\u001b[38;5;124minner\u001b[39m\u001b[38;5;124m\"\u001b[39m)\n\u001b[1;32m     17\u001b[0m \u001b[38;5;66;03m# mae = (pl.col(\"prediction\")-pl.col(\"rating\")).abs().mean().collect()[0]\u001b[39;00m\n",
      "File \u001b[0;32m~/repos/polars_collaborative_filtering/src/polars_collaborative_filtering/collaborative_filtering.py:110\u001b[0m, in \u001b[0;36mCollaborativeFilter.predict\u001b[0;34m(self, ratings, user_ratings, num_predictions)\u001b[0m\n\u001b[1;32m    106\u001b[0m \u001b[38;5;66;03m# Calculate the similarity between users\u001b[39;00m\n\u001b[1;32m    107\u001b[0m ratings \u001b[38;5;241m=\u001b[39m CollaborativeFilter\u001b[38;5;241m.\u001b[39mcalculate_similarity(\n\u001b[1;32m    108\u001b[0m     ratings, \u001b[38;5;28mself\u001b[39m\u001b[38;5;241m.\u001b[39mcorrelation_method\n\u001b[1;32m    109\u001b[0m )\n\u001b[0;32m--> 110\u001b[0m ratings \u001b[38;5;241m=\u001b[39m \u001b[43mCollaborativeFilter\u001b[49m\u001b[38;5;241;43m.\u001b[39;49m\u001b[43mselect_neighborhood\u001b[49m\u001b[43m(\u001b[49m\n\u001b[1;32m    111\u001b[0m \u001b[43m    \u001b[49m\u001b[43mratings\u001b[49m\u001b[43m,\u001b[49m\u001b[43m \u001b[49m\u001b[38;5;28;43mself\u001b[39;49m\u001b[38;5;241;43m.\u001b[39;49m\u001b[43msimilarity_threshold\u001b[49m\u001b[43m,\u001b[49m\u001b[43m \u001b[49m\u001b[38;5;28;43mself\u001b[39;49m\u001b[38;5;241;43m.\u001b[39;49m\u001b[43mneighborhood_method\u001b[49m\n\u001b[1;32m    112\u001b[0m \u001b[43m\u001b[49m\u001b[43m)\u001b[49m\n\u001b[1;32m    114\u001b[0m \u001b[38;5;28;01mif\u001b[39;00m \u001b[38;5;28mself\u001b[39m\u001b[38;5;241m.\u001b[39mminimal_number_of_ratings:\n\u001b[1;32m    115\u001b[0m     ratings \u001b[38;5;241m=\u001b[39m CollaborativeFilter\u001b[38;5;241m.\u001b[39mfilter_on_minimum_number_of_ratings(\n\u001b[1;32m    116\u001b[0m         ratings, \u001b[38;5;28mself\u001b[39m\u001b[38;5;241m.\u001b[39mminimal_number_of_ratings\n\u001b[1;32m    117\u001b[0m     )\n",
      "File \u001b[0;32m~/repos/polars_collaborative_filtering/src/polars_collaborative_filtering/collaborative_filtering.py:75\u001b[0m, in \u001b[0;36mCollaborativeFilter.select_neighborhood\u001b[0;34m(ratings, threshold, neighborhood_method)\u001b[0m\n\u001b[1;32m     70\u001b[0m \u001b[38;5;129m@staticmethod\u001b[39m\n\u001b[1;32m     71\u001b[0m \u001b[38;5;28;01mdef\u001b[39;00m \u001b[38;5;21mselect_neighborhood\u001b[39m(\n\u001b[1;32m     72\u001b[0m     ratings: pl\u001b[38;5;241m.\u001b[39mDataFrame, threshold: \u001b[38;5;28mfloat\u001b[39m \u001b[38;5;241m|\u001b[39m \u001b[38;5;28mint\u001b[39m, neighborhood_method: \u001b[38;5;28mstr\u001b[39m\n\u001b[1;32m     73\u001b[0m ) \u001b[38;5;241m-\u001b[39m\u001b[38;5;241m>\u001b[39m pl\u001b[38;5;241m.\u001b[39mDataFrame:\n\u001b[1;32m     74\u001b[0m     \u001b[38;5;28;01mif\u001b[39;00m neighborhood_method \u001b[38;5;241m==\u001b[39m \u001b[38;5;124m\"\u001b[39m\u001b[38;5;124mthreshold\u001b[39m\u001b[38;5;124m\"\u001b[39m:\n\u001b[0;32m---> 75\u001b[0m         ratings \u001b[38;5;241m=\u001b[39m \u001b[43mratings\u001b[49m\u001b[38;5;241;43m.\u001b[39;49m\u001b[43mfilter\u001b[49m\u001b[43m(\u001b[49m\u001b[43mpl\u001b[49m\u001b[38;5;241;43m.\u001b[39;49m\u001b[43mcol\u001b[49m\u001b[43m(\u001b[49m\u001b[38;5;124;43m\"\u001b[39;49m\u001b[38;5;124;43mcorr\u001b[39;49m\u001b[38;5;124;43m\"\u001b[39;49m\u001b[43m)\u001b[49m\u001b[43m \u001b[49m\u001b[38;5;241;43m>\u001b[39;49m\u001b[43m \u001b[49m\u001b[43mthreshold\u001b[49m\u001b[43m)\u001b[49m\n\u001b[1;32m     76\u001b[0m     \u001b[38;5;28;01melif\u001b[39;00m neighborhood_method \u001b[38;5;241m==\u001b[39m \u001b[38;5;124m\"\u001b[39m\u001b[38;5;124mnumber\u001b[39m\u001b[38;5;124m\"\u001b[39m:\n\u001b[1;32m     77\u001b[0m         ratings \u001b[38;5;241m=\u001b[39m ratings\u001b[38;5;241m.\u001b[39msort(by\u001b[38;5;241m=\u001b[39m\u001b[38;5;124m\"\u001b[39m\u001b[38;5;124mcorr\u001b[39m\u001b[38;5;124m\"\u001b[39m, reverse\u001b[38;5;241m=\u001b[39m\u001b[38;5;28;01mTrue\u001b[39;00m)\u001b[38;5;241m.\u001b[39mlimit(threshold)\n",
      "File \u001b[0;32m/Library/Frameworks/Python.framework/Versions/3.12/lib/python3.12/site-packages/polars/dataframe/frame.py:4270\u001b[0m, in \u001b[0;36mDataFrame.filter\u001b[0;34m(self, *predicates, **constraints)\u001b[0m\n\u001b[1;32m   4172\u001b[0m \u001b[38;5;28;01mdef\u001b[39;00m \u001b[38;5;21mfilter\u001b[39m(\n\u001b[1;32m   4173\u001b[0m     \u001b[38;5;28mself\u001b[39m,\n\u001b[1;32m   4174\u001b[0m     \u001b[38;5;241m*\u001b[39mpredicates: (\n\u001b[0;32m   (...)\u001b[0m\n\u001b[1;32m   4181\u001b[0m     \u001b[38;5;241m*\u001b[39m\u001b[38;5;241m*\u001b[39mconstraints: Any,\n\u001b[1;32m   4182\u001b[0m ) \u001b[38;5;241m-\u001b[39m\u001b[38;5;241m>\u001b[39m DataFrame:\n\u001b[1;32m   4183\u001b[0m \u001b[38;5;250m    \u001b[39m\u001b[38;5;124;03m\"\"\"\u001b[39;00m\n\u001b[1;32m   4184\u001b[0m \u001b[38;5;124;03m    Filter the rows in the DataFrame based on one or more predicate expressions.\u001b[39;00m\n\u001b[1;32m   4185\u001b[0m \n\u001b[0;32m   (...)\u001b[0m\n\u001b[1;32m   4268\u001b[0m \u001b[38;5;124;03m    └─────┴─────┴─────┘\u001b[39;00m\n\u001b[1;32m   4269\u001b[0m \u001b[38;5;124;03m    \"\"\"\u001b[39;00m\n\u001b[0;32m-> 4270\u001b[0m     \u001b[38;5;28;01mreturn\u001b[39;00m \u001b[38;5;28;43mself\u001b[39;49m\u001b[38;5;241;43m.\u001b[39;49m\u001b[43mlazy\u001b[49m\u001b[43m(\u001b[49m\u001b[43m)\u001b[49m\u001b[38;5;241;43m.\u001b[39;49m\u001b[43mfilter\u001b[49m\u001b[43m(\u001b[49m\u001b[38;5;241;43m*\u001b[39;49m\u001b[43mpredicates\u001b[49m\u001b[43m,\u001b[49m\u001b[43m \u001b[49m\u001b[38;5;241;43m*\u001b[39;49m\u001b[38;5;241;43m*\u001b[39;49m\u001b[43mconstraints\u001b[49m\u001b[43m)\u001b[49m\u001b[38;5;241;43m.\u001b[39;49m\u001b[43mcollect\u001b[49m\u001b[43m(\u001b[49m\u001b[43m_eager\u001b[49m\u001b[38;5;241;43m=\u001b[39;49m\u001b[38;5;28;43;01mTrue\u001b[39;49;00m\u001b[43m)\u001b[49m\n",
      "File \u001b[0;32m/Library/Frameworks/Python.framework/Versions/3.12/lib/python3.12/site-packages/polars/lazyframe/frame.py:1943\u001b[0m, in \u001b[0;36mLazyFrame.collect\u001b[0;34m(self, type_coercion, predicate_pushdown, projection_pushdown, simplify_expression, slice_pushdown, comm_subplan_elim, comm_subexpr_elim, no_optimization, streaming, background, _eager)\u001b[0m\n\u001b[1;32m   1940\u001b[0m \u001b[38;5;28;01mif\u001b[39;00m background:\n\u001b[1;32m   1941\u001b[0m     \u001b[38;5;28;01mreturn\u001b[39;00m InProcessQuery(ldf\u001b[38;5;241m.\u001b[39mcollect_concurrently())\n\u001b[0;32m-> 1943\u001b[0m \u001b[38;5;28;01mreturn\u001b[39;00m wrap_df(\u001b[43mldf\u001b[49m\u001b[38;5;241;43m.\u001b[39;49m\u001b[43mcollect\u001b[49m\u001b[43m(\u001b[49m\u001b[43m)\u001b[49m)\n",
      "\u001b[0;31mKeyboardInterrupt\u001b[0m: "
     ]
    }
   ],
   "source": [
    "coverages = []\n",
    "maes = []\n",
    "\n",
    "for i in tqdm(range(user_kf.get_n_splits()-53000)):\n",
    "    user_train_index, user_test_index = next(user_kf.split(user_ids))\n",
    "    train_ratings = ratings.filter(pl.col(\"user_id\").is_in(user_ids[user_train_index]))\n",
    "    user_ratings = ratings.filter(pl.col(\"user_id\").is_in(user_ids[user_test_index]))\n",
    "    ratings_user_itemids = user_ratings.select(\"item_id\").unique().sort(\"item_id\") #.collect()\n",
    "    ratings_kf = KFold(n_splits=len(ratings_user_itemids), shuffle=True, random_state=42)\n",
    "    for k in range(ratings_kf.get_n_splits()):\n",
    "        train_index, test_index = next(ratings_kf.split(ratings_user_itemids))\n",
    "        input_ratings = user_ratings.filter(pl.col(\"item_id\").is_in(ratings_user_itemids[train_index]))\n",
    "        test_ratings = user_ratings.filter(pl.col(\"item_id\").is_in(ratings_user_itemids[test_index]))\n",
    "\n",
    "        predictions = cf.predict(train_ratings, input_ratings, None)\n",
    "        predictions = predictions.join(test_ratings, on=[\"item_id\"], how=\"inner\")\n",
    "        # mae = (pl.col(\"prediction\")-pl.col(\"rating\")).abs().mean().collect()[0]\n",
    "        predictions = predictions.with_columns((pl.col(\"prediction\")-pl.col(\"rating\")).abs().alias(\"error\"))\n",
    "        predictions = predictions #.collect()\n",
    "        if len(predictions) > 0:\n",
    "            maes.append(predictions.select(\"error\").mean().item())\n",
    "            coverage = len(predictions)/len(test_ratings)\n",
    "            coverages.append(coverage)\n",
    "        else:\n",
    "            coverages.append(0)\n",
    "        \n",
    "\n"
   ]
  },
  {
   "cell_type": "code",
   "execution_count": null,
   "metadata": {},
   "outputs": [],
   "source": []
  }
 ],
 "metadata": {
  "kernelspec": {
   "display_name": "Python 3",
   "language": "python",
   "name": "python3"
  },
  "language_info": {
   "codemirror_mode": {
    "name": "ipython",
    "version": 3
   },
   "file_extension": ".py",
   "mimetype": "text/x-python",
   "name": "python",
   "nbconvert_exporter": "python",
   "pygments_lexer": "ipython3",
   "version": "3.12.1"
  }
 },
 "nbformat": 4,
 "nbformat_minor": 4
}
