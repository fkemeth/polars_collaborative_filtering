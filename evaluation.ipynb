{
 "cells": [
  {
   "cell_type": "code",
   "execution_count": 1,
   "metadata": {},
   "outputs": [],
   "source": [
    "import polars as pl\n",
    "from src.polars_collaborative_filtering.collaborative_filtering import CollaborativeFilter\n",
    "\n",
    "books = pl.scan_csv(\"books.csv\").select(\"book_id\", \"title\", \"authors\")\n",
    "ratings = pl.scan_csv(\"ratings.csv\").select(\"user_id\", \"book_id\", \"rating\")"
   ]
  },
  {
   "cell_type": "code",
   "execution_count": 13,
   "metadata": {},
   "outputs": [
    {
     "data": {
      "text/html": [
       "<div><style>\n",
       ".dataframe > thead > tr,\n",
       ".dataframe > tbody > tr {\n",
       "  text-align: right;\n",
       "  white-space: pre-wrap;\n",
       "}\n",
       "</style>\n",
       "<small>shape: (10, 4)</small><table border=\"1\" class=\"dataframe\"><thead><tr><th>item_id</th><th>prediction</th><th>title</th><th>authors</th></tr><tr><td>i64</td><td>f64</td><td>str</td><td>str</td></tr></thead><tbody><tr><td>757</td><td>4.884893</td><td>&quot;Lonesome Dove&quot;</td><td>&quot;Larry McMurtry…</td></tr><tr><td>2757</td><td>4.852697</td><td>&quot;Ahab&#x27;s Wife, o…</td><td>&quot;Sena Jeter Nas…</td></tr><tr><td>1909</td><td>4.844823</td><td>&quot;Someone Knows …</td><td>&quot;Lawrence Hill&quot;</td></tr><tr><td>2247</td><td>4.82878</td><td>&quot;The Diving Bel…</td><td>&quot;Jean-Dominique…</td></tr><tr><td>267</td><td>4.821673</td><td>&quot;The Nightingal…</td><td>&quot;Kristin Hannah…</td></tr><tr><td>1496</td><td>4.810564</td><td>&quot;A Storm of Swo…</td><td>&quot;George R.R. Ma…</td></tr><tr><td>1597</td><td>4.778453</td><td>&quot;The Power of O…</td><td>&quot;Bryce Courtena…</td></tr><tr><td>1338</td><td>4.777642</td><td>&quot;The Book of Mo…</td><td>&quot;Anonymous, Jos…</td></tr><tr><td>1380</td><td>4.772905</td><td>&quot;The Complete M…</td><td>&quot;Art Spiegelman…</td></tr><tr><td>141</td><td>4.755184</td><td>&quot;The Martian&quot;</td><td>&quot;Andy Weir&quot;</td></tr></tbody></table></div>"
      ],
      "text/plain": [
       "shape: (10, 4)\n",
       "┌─────────┬────────────┬───────────────────────────────────┬───────────────────────────────────┐\n",
       "│ item_id ┆ prediction ┆ title                             ┆ authors                           │\n",
       "│ ---     ┆ ---        ┆ ---                               ┆ ---                               │\n",
       "│ i64     ┆ f64        ┆ str                               ┆ str                               │\n",
       "╞═════════╪════════════╪═══════════════════════════════════╪═══════════════════════════════════╡\n",
       "│ 757     ┆ 4.884893   ┆ Lonesome Dove                     ┆ Larry McMurtry                    │\n",
       "│ 2757    ┆ 4.852697   ┆ Ahab's Wife, or The Star-Gazer    ┆ Sena Jeter Naslund                │\n",
       "│ 1909    ┆ 4.844823   ┆ Someone Knows My Name             ┆ Lawrence Hill                     │\n",
       "│ 2247    ┆ 4.82878    ┆ The Diving Bell and the Butterfl… ┆ Jean-Dominique Bauby, Jeremy Leg… │\n",
       "│ 267     ┆ 4.821673   ┆ The Nightingale                   ┆ Kristin Hannah                    │\n",
       "│ 1496    ┆ 4.810564   ┆ A Storm of Swords: Blood and Gol… ┆ George R.R. Martin                │\n",
       "│ 1597    ┆ 4.778453   ┆ The Power of One (The Power of O… ┆ Bryce Courtenay                   │\n",
       "│ 1338    ┆ 4.777642   ┆ The Book of Mormon: Another Test… ┆ Anonymous, Joseph Smith Jr.       │\n",
       "│ 1380    ┆ 4.772905   ┆ The Complete Maus (Maus, #1-2)    ┆ Art Spiegelman                    │\n",
       "│ 141     ┆ 4.755184   ┆ The Martian                       ┆ Andy Weir                         │\n",
       "└─────────┴────────────┴───────────────────────────────────┴───────────────────────────────────┘"
      ]
     },
     "execution_count": 13,
     "metadata": {},
     "output_type": "execute_result"
    }
   ],
   "source": [
    "cf = CollaborativeFilter(\n",
    "        correlation_method = \"pearson\",\n",
    "        similarity_threshold = 0.7,\n",
    "        minimal_number_of_ratings = 6,\n",
    "        minimum_number_of_books_rated_in_common = 10,\n",
    "        neighborhood_method = \"threshold\",)\n",
    "\n",
    "predictions = cf.predict(ratings.rename({\"book_id\": \"item_id\"}), user_ratings.rename({\"book_id\": \"item_id\"}), num_predictions=10).collect()\n",
    "predictions = predictions.join(books.rename({\"book_id\": \"item_id\"}).collect(), how=\"left\", on=\"item_id\")\n",
    "predictions"
   ]
  },
  {
   "cell_type": "code",
   "execution_count": null,
   "metadata": {},
   "outputs": [],
   "source": []
  }
 ],
 "metadata": {
  "kernelspec": {
   "display_name": "Python 3",
   "language": "python",
   "name": "python3"
  },
  "language_info": {
   "codemirror_mode": {
    "name": "ipython",
    "version": 3
   },
   "file_extension": ".py",
   "mimetype": "text/x-python",
   "name": "python",
   "nbconvert_exporter": "python",
   "pygments_lexer": "ipython3",
   "version": "3.12.1"
  }
 },
 "nbformat": 4,
 "nbformat_minor": 4
}
